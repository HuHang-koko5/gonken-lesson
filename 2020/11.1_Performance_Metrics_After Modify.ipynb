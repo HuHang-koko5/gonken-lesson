{
 "cells": [
  {
   "cell_type": "markdown",
   "metadata": {},
   "source": [
    "# 11.1 Performance Metrics\n",
    "\n",
    "In this lecture, we are going to study several matrics used to evaluate the performance of our machine learning model.\n",
    "\n",
    "It should be said that a perfect machine learning model does not exist. There will always be some errors in the model, caused by any of the reasons listed below. "
   ]
  },
  {
   "cell_type": "markdown",
   "metadata": {},
   "source": [
    "### Bayes error：\n",
    "\n",
    "In statistical classification, the [Bayes error rate](http://www.shivani-agarwal.net/Teaching/CIS-520/Spring-2018/Lectures/Reading/intro.pdf) ([Japanese link](https://www.slideshare.net/shuheisowa/ss-61091234)) is the lowest possible error rate for any classifier of a random outcome and is analogous to the irreducible error 【1】.\n",
    "\n",
    "Take for example a [binary classifier](https://en.wikipedia.org/wiki/Binary_classification) for gender:\n",
    "- Suppose, in a sample group, 90% of long-haired people are female, 10% of long-haired people are male, and 100% of short-haired people are male. Thus, if a gender classifier relies only on whether the length of hair as its input, the Bayes error rate of a the best such classifier would be 10% or 0.1."
   ]
  },
  {
   "cell_type": "code",
   "execution_count": null,
   "metadata": {},
   "outputs": [],
   "source": [
    "# add code here"
   ]
  },
  {
   "cell_type": "markdown",
   "metadata": {},
   "source": [
    "### Other sources of error：\n",
    "\n",
    "For any activity, we are eventually limited by resources: since increasing data, model training, model size all incur some cost, there is necessarily a point at which it is no longer viable to increase it further. This cost may be in the form of money, time, human suffering, computational power, etc.\n",
    "\n",
    "---"
   ]
  },
  {
   "cell_type": "markdown",
   "metadata": {},
   "source": [
    "## Metrics\n",
    "\n",
    "Now, let's see some basic metrics with which to determine the performance of our models. \n"
   ]
  },
  {
   "cell_type": "markdown",
   "metadata": {},
   "source": [
    "### Accuracy or Error:\n",
    "\n",
    "Accuracy is the proportion of examples for which the model produces the correct input. \n",
    "\n",
    "$Accuracy = \\frac{n_{correct}}{n_{all}}$\n",
    "\n",
    "Error is the proportion of examples for which the model produces the incorrect input. \n",
    "\n",
    "$Error = 1-Accuracy$\n",
    "\n",
    "Both accuracy and error are commonly used for classification problems because of their easy human understandability."
   ]
  },
  {
   "cell_type": "code",
   "execution_count": null,
   "metadata": {},
   "outputs": [],
   "source": [
    "# add code here"
   ]
  },
  {
   "cell_type": "markdown",
   "metadata": {},
   "source": [
    "### Precision and Recall:\n",
    "\n",
    "Precision and Recall are two metrics often used to evaluate classifiers. \n",
    "\n",
    "1. Precision (p) is the fraction of detections reported by the model that were correct. In other words, it is measures of the reliability of the model's detections--if it says an event happened, how likely is it to be correct?\n",
    "\n",
    "$Precision = \\frac{TruePositives}{TruePositives+FalsePositives}$ "
   ]
  },
  {
   "cell_type": "code",
   "execution_count": null,
   "metadata": {},
   "outputs": [],
   "source": [
    "# add code here"
   ]
  },
  {
   "cell_type": "markdown",
   "metadata": {},
   "source": [
    "2. Recall (r) is the fraction of true events that were detected. In other words, it measures what fractions of the events the model detects (and how many it misses)--what portion of events can we expect to catch?\n",
    "\n",
    "$Recall = \\frac{TruePositives}{TruePositives+FalseNegatives}$"
   ]
  },
  {
   "cell_type": "code",
   "execution_count": null,
   "metadata": {},
   "outputs": [],
   "source": [
    "# add code here"
   ]
  },
  {
   "cell_type": "markdown",
   "metadata": {},
   "source": [
    "A detector that says *no one has the disease* would achieve perfect precision but zero recall. The detector says *everyone has the disease* would achieve perfect recall, but the precision qual to the percentage of people who have the disease. (If we assume there is 2 people who have disease over 100 people group, so the precision would be 2%). \n",
    "\n",
    "In binary classifier, our model gives each instant a score, and the score is higher if the model believes the event we are detecting to have likely occurred. We choose to report a detection whenever this score **exceeds some threshold**. By changing the threshold, we change the precision and recall of the model. By varying this threshold, we can plot the [**PR curve**](https://machinelearningmastery.com/roc-curves-and-precision-recall-curves-for-classification-in-python/) ([Japanese link](https://aidemy.net/courses/2010/exercises/HyGxFhIiUxG), traditionally with the precision on the y-axis and recall on the x-axis.\n",
    "\n",
    "We can evaluate our PR curve by measuring the total area lying beneath the PR curve. The larger the area, the better."
   ]
  },
  {
   "cell_type": "code",
   "execution_count": null,
   "metadata": {},
   "outputs": [],
   "source": [
    "# add code here"
   ]
  },
  {
   "cell_type": "markdown",
   "metadata": {},
   "source": [
    "If we want to summarize the performance of the classifier with a single number rather than a curve, the F-score will be used and given by:\n",
    "    $F=2pr/(p+r)$"
   ]
  },
  {
   "cell_type": "code",
   "execution_count": null,
   "metadata": {},
   "outputs": [],
   "source": [
    "# add code here"
   ]
  },
  {
   "cell_type": "markdown",
   "metadata": {},
   "source": [
    "Assuming there is a classifier to determine whether an item belongs to class \"O\" (assume there are two classes, \"O\" and \"X\"), and there is a data set with 20 items, and each item will be given a probability by the classifier. For sure, a item be given with a higher probability means the classifier believes this item has a higher chance to be a \"O\". \n",
    "    \n",
    "In this example, three different classifiers is used, Commodity Class 1, 2 and 3, which coresspond to a good, medium, and poor performance classifier. We can run each of them by using the code below, and see how the PR curve changes."
   ]
  },
  {
   "cell_type": "markdown",
   "metadata": {},
   "source": [
    "### Coverage\n",
    "Coverage is the fraction of example for which the machine learning system is able to produce a response. The Street View transcription systems provides an example of this situation. Where the system can always obtained 100% accuracy by refusing to process any example, but this reduced the coverage to 0%.\n",
    "\n",
    "For the treet View task, the goal fot the project is to reach human-level transcription accuracy while maintaining 95% coverage. (By the way, human-level performance on this task is 98% accuracy.)\n",
    "\n",
    "### Other metrics\n",
    "\n",
    "There can be many other metrics depending on your particular application. Examples include [click-through rate](https://en.wikipedia.org/wiki/Click-through_rate), user satisfaction, and so on. "
   ]
  },
  {
   "cell_type": "markdown",
   "metadata": {},
   "source": [
    "## Loss functions：\n",
    "\n",
    "Loss is one of the important metric for supervised training of ML models. It is calculated by a user-defined loss function. In general speaking, a lower loss means a better performance, and this function should be designed as such. "
   ]
  },
  {
   "cell_type": "markdown",
   "metadata": {},
   "source": [
    "### Mean squared error"
   ]
  },
  {
   "cell_type": "code",
   "execution_count": 1,
   "metadata": {},
   "outputs": [],
   "source": [
    "# add code here"
   ]
  },
  {
   "cell_type": "markdown",
   "metadata": {},
   "source": [
    "### Categorical crossentropy"
   ]
  },
  {
   "cell_type": "code",
   "execution_count": 2,
   "metadata": {},
   "outputs": [],
   "source": [
    "# add code here"
   ]
  },
  {
   "cell_type": "markdown",
   "metadata": {},
   "source": [
    "### Multiple losses\n",
    "\n",
    "In the real project, there are always more than one error we have to reduce. But not all of them have the same weight or priority.\n",
    "\n",
    "For example, assumming we want to build a Junk mail classifier. In general, the cost of blocking legitimate (or good) mail or massages is higher than the cost of allowing spam( or bad) mail or massages. "
   ]
  },
  {
   "cell_type": "markdown",
   "metadata": {},
   "source": [
    "    Commodity Class 1 -- Good\n",
    "    \n",
    "Item No.|Class|Probability of O|Item No.|Class|Probability of O\n",
    ":---:|:---:|:---:|:---:|:---:|:---:\n",
    "1|O|0.9|11|X|0.4\n",
    "2|O|0.8|12|X|0.32\n",
    "3|O|0.7|13|X|0.28\n",
    "4|O|0.6|14|X|0.16\n",
    "5|O|0.8|15|X|0.2\n",
    "6|O|0.85|16|X|0.22\n",
    "7|O|0.66|17|X|0.33\n",
    "8|O|0.7|18|X|0.12\n",
    "9|O|0.95|19|X|0.05\n",
    "10|O|0.58|20|X|0.1\n",
    "\n",
    "\n",
    "    Commodity Class 2 -- Medium\n",
    "\n",
    "Item No.|Class|Probability of O|Item No.|Class|Probability of O\n",
    ":---:|:---:|:---:|:---:|:---:|:---:\n",
    "1|O|0.9|11|X|0.4\n",
    "2|O|0.8|12|X|0.32\n",
    "3|O|0.7|13|X|0.28\n",
    "4|O|0.6|14|X|0.16\n",
    "5|O|0.8|15|X|0.2\n",
    "6|O|0.4|16|X|0.56\n",
    "7|O|0.3|17|X|0.68\n",
    "8|O|0.2|18|X|0.77\n",
    "9|O|0.36|19|X|0.67\n",
    "10|O|0.48|20|X|0.6\n",
    "\n",
    "    Commodity Class 3 -- Poor\n",
    "\n",
    "Item No.|Class|Probability of O|Item No.|Class|Probability of O\n",
    ":---:|:---:|:---:|:---:|:---:|:---:\n",
    "1|O|0.82|11|X|0.21\n",
    "2|O|0.4|12|X|0.8\n",
    "3|O|0.15|13|X|0.77\n",
    "4|O|0.16|14|X|0.63\n",
    "5|O|0.4|15|X|0.82\n",
    "6|O|0.4|16|X|0.56\n",
    "7|O|0.3|17|X|0.68\n",
    "8|O|0.2|18|X|0.77\n",
    "9|O|0.36|19|X|0.72\n",
    "10|O|0.48|20|X|0.6\n",
    "    \n",
    "    "
   ]
  },
  {
   "cell_type": "code",
   "execution_count": 11,
   "metadata": {},
   "outputs": [],
   "source": [
    "import matplotlib.pyplot as plt\n",
    "import numpy as np\n",
    "\n",
    "#Function to draw the PR Curve\n",
    "def PR(def_threshold_value,def_Commodity_Class,def_Score):\n",
    "    recall_number=0\n",
    "    right_number=0\n",
    "    wrong_number=0\n",
    "    for i in range(len(def_Commodity_Class)):\n",
    "        if def_Score[i]>=threshold_value:\n",
    "            recall_number+=1\n",
    "            if def_Commodity_Class[i]==True:\n",
    "                right_number+=1\n",
    "            else:\n",
    "                wrong_number+=1 \n",
    "    if recall_number>0:           \n",
    "        def_precision=right_number/ recall_number\n",
    "    else:\n",
    "        def_precision=1\n",
    "    def_recall=recall_number/len(def_Commodity_Class)\n",
    "    return def_precision,def_recall\n",
    "\n",
    "#Input\n",
    "commodity=[]\n",
    "for i in range(20):\n",
    "    commodity.append(i)    \n",
    "Commodity_Class=[True,True,True,True,True,  True,True,True,True,True,  False, False,False,False,False,  False, False,False,False,False,]\n",
    "\n",
    "# A GOOD performance classifier\n",
    "Score_1=[0.9,0.8,0.7,0.6,0.8,  0.85,0.66,0.7,0.95,0.58,  0.4,0.32,0.28,0.16,0.2,  0.22,0.33,0.12,0.05,0.1]\n",
    "# A MEDIUM performance classifier\n",
    "Score_2=[0.9,0.8,0.7,0.6,0.8, 0.4,0.3,0.2,0.36,0.48,  0.4,0.32,0.28,0.16,0.2,  0.56,0.68,0.77,0.67,0.6]\n",
    "# A POOR performance classifier\n",
    "Score_3=[0.82,0.4,0.15,0.16,0.4,  0.4,0.3,0.2,0.36,0.48,  0.21,0.8,0.77,0.63,0.82,  0.56,0.68,0.77,0.72,0.6]"
   ]
  },
  {
   "cell_type": "code",
   "execution_count": 12,
   "metadata": {},
   "outputs": [
    {
     "data": {
      "image/png": "[encoded data removed]",
      "text/plain": [
       "<Figure size 450x450 with 1 Axes>"
      ]
     },
     "metadata": {},
     "output_type": "display_data"
    }
   ],
   "source": [
    "#Please select which score to use from Score_1, Score_2 and Score_3\n",
    "which_score_to_use=Score_3\n",
    "\n",
    "#Run the \"PR\" function\n",
    "precision_matrix=[]\n",
    "recall_matrix=[]\n",
    "step=100\n",
    "for i in range(step):\n",
    "    #Threshold increase from 0 to 1 with step 0.01\n",
    "    threshold_value=i/step\n",
    "    #Get the value of precision and recall for each value of threshold\n",
    "    precision,recall=PR(threshold_value,Commodity_Class,which_score_to_use)\n",
    "    #Record the data of precision and recall\n",
    "    precision_matrix.append(precision)\n",
    "    recall_matrix.append(recall)\n",
    "    \n",
    "#Plot the PR Curve \n",
    "fig1 = plt.figure(num='fig111111', figsize=(6, 6), dpi=75, facecolor='#FFFFFF', edgecolor='#0000FF')\n",
    "plt.plot(recall_matrix,precision_matrix)\n",
    "plt.xticks(np.linspace(0,1,11,endpoint=True))\n",
    "plt.yticks(np.linspace(0,1,11,endpoint=True))\n",
    "plt.title('Poor classifier')\n",
    "plt.ylabel('Precision')\n",
    "plt.xlabel('Recall')\n",
    "plt.show()"
   ]
  },
  {
   "cell_type": "code",
   "execution_count": 13,
   "metadata": {},
   "outputs": [
    {
     "data": {
      "image/png": "[encoded data removed]",
      "text/plain": [
       "<Figure size 450x450 with 1 Axes>"
      ]
     },
     "metadata": {},
     "output_type": "display_data"
    }
   ],
   "source": [
    "#Please select which score to use from Score_1, Score_2 and Score_3\n",
    "which_score_to_use=Score_2\n",
    "\n",
    "#Run the \"PR\" function\n",
    "precision_matrix=[]\n",
    "recall_matrix=[]\n",
    "step=100\n",
    "for i in range(step):\n",
    "    #Threshold increase from 0 to 1 with step 0.01\n",
    "    threshold_value=i/step\n",
    "    #Get the value of precision and recall for each value of threshold\n",
    "    precision,recall=PR(threshold_value,Commodity_Class,which_score_to_use)\n",
    "    #Record the data of precision and recall\n",
    "    precision_matrix.append(precision)\n",
    "    recall_matrix.append(recall)\n",
    "    \n",
    "#Plot the PR Curve \n",
    "fig1 = plt.figure(num='fig111111', figsize=(6, 6), dpi=75, facecolor='#FFFFFF', edgecolor='#0000FF')\n",
    "plt.plot(recall_matrix,precision_matrix)\n",
    "plt.xticks(np.linspace(0,1,11,endpoint=True))\n",
    "plt.yticks(np.linspace(0,1,11,endpoint=True))\n",
    "plt.title('Medium classifier')\n",
    "plt.ylabel('Precision')\n",
    "plt.xlabel('Recall')\n",
    "plt.show()"
   ]
  },
  {
   "cell_type": "code",
   "execution_count": 14,
   "metadata": {},
   "outputs": [
    {
     "data": {
      "image/png": "[encoded data removed]",
      "text/plain": [
       "<Figure size 450x450 with 1 Axes>"
      ]
     },
     "metadata": {},
     "output_type": "display_data"
    }
   ],
   "source": [
    "#Please select which score to use from Score_1, Score_2 and Score_3\n",
    "which_score_to_use=Score_1\n",
    "\n",
    "#Run the \"PR\" function\n",
    "precision_matrix=[]\n",
    "recall_matrix=[]\n",
    "step=100\n",
    "for i in range(step):\n",
    "    #Threshold increase from 0 to 1 with step 0.01\n",
    "    threshold_value=i/step\n",
    "    #Get the value of precision and recall for each value of threshold\n",
    "    precision,recall=PR(threshold_value,Commodity_Class,which_score_to_use)\n",
    "    #Record the data of precision and recall\n",
    "    precision_matrix.append(precision)\n",
    "    recall_matrix.append(recall)\n",
    "    \n",
    "#Plot the PR Curve \n",
    "fig1 = plt.figure(num='fig111111', figsize=(6, 6), dpi=75, facecolor='#FFFFFF', edgecolor='#0000FF')\n",
    "plt.plot(recall_matrix,precision_matrix)\n",
    "plt.xticks(np.linspace(0,1,11,endpoint=True))\n",
    "plt.yticks(np.linspace(0,1,11,endpoint=True))\n",
    "plt.title('Good classifier')\n",
    "plt.ylabel('Precision')\n",
    "plt.xlabel('Recall')\n",
    "plt.show()"
   ]
  },
  {
   "cell_type": "code",
   "execution_count": null,
   "metadata": {},
   "outputs": [],
   "source": []
  },
  {
   "cell_type": "markdown",
   "metadata": {},
   "source": [
    "# Reference:\n",
    "1. Fukunaga, Keinosuke (1990) Introduction to Statistical Pattern Recognition by ISBN 0122698517 pages 3 and 97\n",
    "\n",
    "2. Jump up to:a b K. Tumer, K. (1996) \"Estimating the Bayes error rate through classifier combining\" in Proceedings of the 13th International Conference on Pattern Recognition, Volume 2, 695–699\n",
    "\n",
    "3. En.wikipedia.org. 2020. Bayes Error Rate. [online] Available at: <https://en.wikipedia.org/wiki/Bayes_error_rate> [Accessed 13 May 2020].\n",
    "\n",
    "4. Goodfellow, I., Bengio, Y. and Courville, A., 2016. Deep learning. MIT press."
   ]
  }
 ],
 "metadata": {
  "kernelspec": {
   "display_name": "Python 3",
   "language": "python",
   "name": "python3"
  },
  "language_info": {
   "codemirror_mode": {
    "name": "ipython",
    "version": 3
   },
   "file_extension": ".py",
   "mimetype": "text/x-python",
   "name": "python",
   "nbconvert_exporter": "python",
   "pygments_lexer": "ipython3",
   "version": "3.7.1"
  }
 },
 "nbformat": 4,
 "nbformat_minor": 4
}
