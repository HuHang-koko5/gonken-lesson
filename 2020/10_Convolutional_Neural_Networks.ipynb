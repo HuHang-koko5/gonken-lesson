{
 "cells": [
  {
   "cell_type": "markdown",
   "metadata": {},
   "source": [
    "<font size=\"6\">Lesson 10: Convolutional Neural Networks</font>"
   ]
  },
  {
   "cell_type": "markdown",
   "metadata": {},
   "source": [
    "Readings:\n",
    "- [Deep learning, section 9](http://www.deeplearningbook.org/contents/convnets.html)\n",
    "- [A Comprehensive Guide to Convolutional Neural Networks](https://towardsdatascience.com/a-comprehensive-guide-to-convolutional-neural-networks-the-eli5-way-3bd2b1164a53)\n",
    "- [視覚野と畳み込みニューラルネットワーク](https://lp-tech.net/articles/frQNo)\n",
    "- [Training a Classifier](https://pytorch.org/tutorials/beginner/blitz/cifar10_tutorial.html)"
   ]
  },
  {
   "cell_type": "code",
   "execution_count": 73,
   "metadata": {},
   "outputs": [],
   "source": [
    "# import what you need\n",
    "import warnings\n",
    "warnings.filterwarnings(\"ignore\")\n",
    "from PIL import Image \n",
    "import numpy as np\n",
    "import torch\n",
    "import torch.nn as nn\n",
    "import torch.nn.functional as F\n",
    "import torchvision.transforms as transforms\n",
    "import torchvision\n",
    "import matplotlib.pyplot as plt"
   ]
  },
  {
   "cell_type": "markdown",
   "metadata": {},
   "source": [
    "--- \n",
    "\n",
    "<font size=\"5\">Overviews</font>\n",
    "1. Introduction\n",
    "1. Motivations\n",
    "    1. Sparse interactions\n",
    "    1. Parameter sharing\n",
    "    1. Equivariant representations\n",
    "1. Implementation in PyTorch\n",
    "1. Summary"
   ]
  },
  {
   "cell_type": "code",
   "execution_count": null,
   "metadata": {},
   "outputs": [],
   "source": [
    "FCC\n",
    "parameter, time, Grad-CAM, feature, AM, dif among small dif, rota"
   ]
  },
  {
   "cell_type": "markdown",
   "metadata": {},
   "source": [
    "--- \n",
    "\n",
    "# Introduction\n",
    "In this notebook, I'm going to explain the motivations of (Convolutional Neural Networks)CNN \n",
    "and the implementation of it.\n",
    "This notebook goes subject to the understanding of basic, computation procedure, pooling layer, and batch normalization.\n",
    "I will introduce 3 main motivations and confirm it with a simple example.\n",
    "And in the implementation section, I will show how to implement the CNN and compare it with FCC.\n"
   ]
  },
  {
   "cell_type": "markdown",
   "metadata": {},
   "source": [
    "---\n",
    "\n",
    "# Motivations\n",
    "**Sparse interactions**, **parameter sharing** and **equivariant representations** are \n",
    "characteristics of the CNN which is important for the machine learning model to learn efficiently."
   ]
  },
  {
   "cell_type": "markdown",
   "metadata": {},
   "source": [
    "## Sparse interactions"
   ]
  },
  {
   "cell_type": "markdown",
   "metadata": {},
   "source": [
    "## Parameter sharing"
   ]
  },
  {
   "cell_type": "raw",
   "metadata": {},
   "source": [
    "def generate_edge_filter(vertical=True, device=\"cpu\", nch=3):\n",
    "    edge_filter = nn.Conv2d(nch, nch, 3, 1, 1)\n",
    "    parameters = edge_filter.state_dict()\n",
    "    bias = torch.zeros(parameters[\"bias\"].shape)\n",
    "    parameters[\"bias\"] = bias\n",
    "    weight = np.array([[-1,-2,-1],[0,0,0],[1,2,1]])\n",
    "    if not vertical:\n",
    "        weight = weight.T\n",
    "    weight = np.tile(np.reshape(weight, (1,1,3,3)), (nch,nch,1,1))\n",
    "    parameters[\"weight\"] = torch.tensor(weight)\n",
    "    edge_filter.load_state_dict(parameters)\n",
    "    return edge_filter.to(device)"
   ]
  },
  {
   "cell_type": "raw",
   "metadata": {},
   "source": [
    "def min_max(x):\n",
    "    min = x.min(axis=axis, keepdims=True)\n",
    "    max = x.max(axis=axis, keepdims=True)\n",
    "    result = (x-min)/(max-min+1e-8)\n",
    "    return result"
   ]
  },
  {
   "cell_type": "raw",
   "metadata": {},
   "source": [
    "img = Image.open(\"./implements_10/Minami_Hoshino.jpg\").crop((132, 0, 900, 768)).resize((512, 512))\n",
    "img = img.convert(\"RGB\")\n",
    "image = transforms.ToTensor()(img).view(1, 3, 512, 512)"
   ]
  },
  {
   "cell_type": "raw",
   "metadata": {},
   "source": [
    "vertical_filter = generate_edge_filter(vertical=True)"
   ]
  },
  {
   "cell_type": "raw",
   "metadata": {},
   "source": [
    "vertical_filter"
   ]
  },
  {
   "cell_type": "raw",
   "metadata": {},
   "source": [
    "image_from_output(vertical_filter(image))[0]"
   ]
  },
  {
   "cell_type": "markdown",
   "metadata": {},
   "source": [
    "## Equivariant representations"
   ]
  },
  {
   "cell_type": "markdown",
   "metadata": {},
   "source": [
    "# Implementation"
   ]
  },
  {
   "cell_type": "code",
   "execution_count": 36,
   "metadata": {},
   "outputs": [],
   "source": [
    "def min_max(x, axis=None):\n",
    "    min = x.min(axis=axis, keepdims=True)\n",
    "    max = x.max(axis=axis, keepdims=True)\n",
    "    result = (x-min)/(max-min+1e-8)\n",
    "    return result"
   ]
  },
  {
   "cell_type": "code",
   "execution_count": 37,
   "metadata": {},
   "outputs": [],
   "source": [
    "def image_from_output(output):\n",
    "    image_list = []\n",
    "    output = output.detach().to(\"cpu\").numpy()\n",
    "    for i in range(output.shape[0]):\n",
    "        a = output[i]\n",
    "        a = np.tile(np.transpose(a, axes=(1,2,0)), (1,1,int(3/a.shape[0])))\n",
    "        a = min_max(a)*2**8 \n",
    "        a[a>255] = 255\n",
    "        a = np.uint8(a)\n",
    "        a = Image.fromarray(a)\n",
    "        image_list.append(a)\n",
    "    return image_list"
   ]
  },
  {
   "cell_type": "markdown",
   "metadata": {},
   "source": [
    "## Dataset"
   ]
  },
  {
   "cell_type": "code",
   "execution_count": 1,
   "metadata": {},
   "outputs": [],
   "source": [
    "batch_size = 128\n",
    "classes = tuple(np.linspace(0, 9, 10, dtype=np.uint8))"
   ]
  },
  {
   "cell_type": "code",
   "execution_count": 3,
   "metadata": {
    "colab": {},
    "colab_type": "code",
    "id": "1A6PT6rDUw8P"
   },
   "outputs": [],
   "source": [
    "transform = {}\n",
    "transform[\"tanh\"] = transforms.Compose(\n",
    "    [transforms.ToTensor(),\n",
    "     transforms.Normalize((0.5, ), (0.5, ))])\n",
    "transform[\"sigmoid\"] = transforms.Compose(\n",
    "    [transforms.ToTensor() ])"
   ]
  },
  {
   "cell_type": "code",
   "execution_count": 7,
   "metadata": {
    "colab": {
     "base_uri": "https://localhost:8080/",
     "height": 255
    },
    "colab_type": "code",
    "executionInfo": {
     "elapsed": 2030,
     "status": "ok",
     "timestamp": 1563105224991,
     "user": {
      "displayName": "Sho Inoue",
      "photoUrl": "",
      "userId": "13781108242194981549"
     },
     "user_tz": -540
    },
    "id": "78Enil7RUw8R",
    "outputId": "4e073b6d-ed4f-4694-c46f-b58805639260"
   },
   "outputs": [],
   "source": [
    "trainset = torchvision.datasets.MNIST(root='./data',  train=True, download=True, transform=transform)\n",
    "trainset = torchvision.datasets.MNIST(root='./data',  train=True, download=True, transform=transform[\"sigmoid\"])\n",
    "trainloader = torch.utils.data.DataLoader(trainset, batch_size=batch_size, shuffle=True, num_workers=2)"
   ]
  },
  {
   "cell_type": "code",
   "execution_count": 8,
   "metadata": {
    "colab": {},
    "colab_type": "code",
    "id": "ekRBB3yZUw8S"
   },
   "outputs": [],
   "source": [
    "testset = torchvision.datasets.MNIST(root='./data',  train=False,  download=True,  transform=transform)\n",
    "testset = torchvision.datasets.MNIST(root='./data',  train=False,  download=True,  transform=transform[\"sigmoid\"])\n",
    "testloader = torch.utils.data.DataLoader(testset,  batch_size=len(testset), shuffle=False,  num_workers=2)"
   ]
  },
  {
   "cell_type": "code",
   "execution_count": 38,
   "metadata": {
    "colab": {
     "base_uri": "https://localhost:8080/",
     "height": 51
    },
    "colab_type": "code",
    "executionInfo": {
     "elapsed": 776,
     "status": "ok",
     "timestamp": 1563105224999,
     "user": {
      "displayName": "Sho Inoue",
      "photoUrl": "",
      "userId": "13781108242194981549"
     },
     "user_tz": -540
    },
    "id": "Tk_9nbaNUw8X",
    "outputId": "d482b813-5256-471d-bdd6-d4b9c64c3e35"
   },
   "outputs": [
    {
     "name": "stdout",
     "output_type": "stream",
     "text": [
      "len_trainset : 60000\n",
      "len_testset : 10000\n"
     ]
    }
   ],
   "source": [
    "print(f\"len_trainset : {len(trainset)}\")\n",
    "print(f\"len_testset : {len(testset)}\")"
   ]
  },
  {
   "cell_type": "code",
   "execution_count": 44,
   "metadata": {},
   "outputs": [
    {
     "data": {
      "image/png": "[encoded data removed]",
      "text/plain": [
       "<Figure size 1440x576 with 40 Axes>"
      ]
     },
     "metadata": {},
     "output_type": "display_data"
    }
   ],
   "source": [
    "fig = plt.figure(figsize=(20, 8))\n",
    "for i in range(40):\n",
    "    image = image_from_output(trainset[i][0].view(1, 1, 28, 28))[0]\n",
    "    ax = fig.add_subplot(4, 10, i+1)\n",
    "    ax.imshow(image)\n",
    "    ax.tick_params(labelbottom=False, labelleft=False, labelright=False, labeltop=False)"
   ]
  },
  {
   "cell_type": "markdown",
   "metadata": {},
   "source": [
    "## Model"
   ]
  },
  {
   "cell_type": "code",
   "execution_count": 48,
   "metadata": {},
   "outputs": [],
   "source": [
    "import torch.optim as optim"
   ]
  },
  {
   "cell_type": "code",
   "execution_count": 177,
   "metadata": {},
   "outputs": [],
   "source": [
    "class CNN(nn.Module):\n",
    "    def __init__(self):\n",
    "        super(CNN, self).__init__()\n",
    "        self.conv1 = nn.Conv2d(1, 4, 3, 1, 1)\n",
    "        self.pool = nn.MaxPool2d(2, 2)\n",
    "        self.conv2 = nn.Conv2d(4, 8, 3, 1, 1)\n",
    "        self.fc1 = nn.Linear(8 * 7 * 7, 120)\n",
    "        self.fc2 = nn.Linear(120, 10)\n",
    "\n",
    "    def forward(self, x):\n",
    "        x = self.pool(F.relu(self.conv1(x)))\n",
    "        x = self.pool(F.relu(self.conv2(x)))\n",
    "        x = x.view(-1, 8 * 7 * 7)\n",
    "        x = F.relu(self.fc1(x))\n",
    "        x = self.fc2(x)\n",
    "        x = F.softmax(x)\n",
    "        return x"
   ]
  },
  {
   "cell_type": "code",
   "execution_count": 178,
   "metadata": {},
   "outputs": [],
   "source": [
    "class FCN(nn.Module):\n",
    "    def __init__(self):\n",
    "        super(FCN, self).__init__()\n",
    "        self.fc1 = nn.Linear(1 * 28 * 28, 120)\n",
    "        self.fc2 = nn.Linear(120, 84)\n",
    "        self.fc3 = nn.Linear(84, 32)\n",
    "        self.fc4 = nn.Linear(32, 10)\n",
    "\n",
    "    def forward(self, x):\n",
    "        x = x.view(-1, 1 * 28 * 28)\n",
    "        x = F.relu(self.fc1(x))\n",
    "        x = F.relu(self.fc2(x))\n",
    "        x = F.relu(self.fc3(x))\n",
    "        x = self.fc4(x)\n",
    "        x = F.softmax(x)\n",
    "        return x"
   ]
  },
  {
   "cell_type": "code",
   "execution_count": 179,
   "metadata": {},
   "outputs": [],
   "source": [
    "cnn = CNN()\n",
    "fcn = FCN()"
   ]
  },
  {
   "cell_type": "code",
   "execution_count": 182,
   "metadata": {},
   "outputs": [
    {
     "name": "stdout",
     "output_type": "stream",
     "text": [
      "conv1.weight 36\n",
      "conv1.bias 4\n",
      "conv2.weight 288\n",
      "conv2.bias 8\n",
      "fc1.weight 47040\n",
      "fc1.bias 120\n",
      "fc2.weight 1200\n",
      "fc2.bias 10\n",
      "whole 48706\n"
     ]
    }
   ],
   "source": [
    "param_num = 0\n",
    "for param in list(cnn.state_dict().keys()):\n",
    "    num = cnn.state_dict()[param].flatten().shape[0]\n",
    "    print(param, num)\n",
    "    param_num += num\n",
    "print(\"whole\", param_num)"
   ]
  },
  {
   "cell_type": "code",
   "execution_count": 183,
   "metadata": {},
   "outputs": [
    {
     "name": "stdout",
     "output_type": "stream",
     "text": [
      "fc1.weight 94080\n",
      "fc1.bias 120\n",
      "fc2.weight 10080\n",
      "fc2.bias 84\n",
      "fc3.weight 2688\n",
      "fc3.bias 32\n",
      "fc4.weight 320\n",
      "fc4.bias 10\n",
      "whole 107414\n"
     ]
    }
   ],
   "source": [
    "param_num = 0\n",
    "for param in list(fcn.state_dict().keys()):\n",
    "    num = fcn.state_dict()[param].flatten().shape[0]\n",
    "    print(param, num)\n",
    "    param_num += num\n",
    "print(\"whole\", param_num)"
   ]
  },
  {
   "cell_type": "code",
   "execution_count": 118,
   "metadata": {},
   "outputs": [],
   "source": [
    "img = trainset[0][0].view(1, 1, 28, 28)"
   ]
  },
  {
   "cell_type": "code",
   "execution_count": null,
   "metadata": {},
   "outputs": [],
   "source": []
  }
 ],
 "metadata": {
  "kernelspec": {
   "display_name": "Python 3",
   "language": "python",
   "name": "python3"
  },
  "language_info": {
   "codemirror_mode": {
    "name": "ipython",
    "version": 3
   },
   "file_extension": ".py",
   "mimetype": "text/x-python",
   "name": "python",
   "nbconvert_exporter": "python",
   "pygments_lexer": "ipython3",
   "version": "3.6.9"
  }
 },
 "nbformat": 4,
 "nbformat_minor": 4
}
