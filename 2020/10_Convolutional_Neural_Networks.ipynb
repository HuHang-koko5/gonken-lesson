{
 "cells": [
  {
   "cell_type": "markdown",
   "metadata": {},
   "source": [
    "<font size=\"6\">Lesson 10: Convolutional Neural Networks</font>"
   ]
  },
  {
   "cell_type": "markdown",
   "metadata": {},
   "source": [
    "Readings:\n",
    "- [Deep learning, section 9](http://www.deeplearningbook.org/contents/convnets.html)\n",
    "- [A Comprehensive Guide to Convolutional Neural Networks](https://towardsdatascience.com/a-comprehensive-guide-to-convolutional-neural-networks-the-eli5-way-3bd2b1164a53)\n",
    "- [視覚野と畳み込みニューラルネットワーク](https://lp-tech.net/articles/frQNo)"
   ]
  },
  {
   "cell_type": "code",
   "execution_count": 1,
   "metadata": {},
   "outputs": [],
   "source": [
    "# import what you need\n",
    "import warnings\n",
    "warnings.filterwarnings(\"ignore\")"
   ]
  },
  {
   "cell_type": "markdown",
   "metadata": {},
   "source": [
    "--- \n",
    "\n",
    "<font size=\"5\">Overviews</font>\n",
    "1. Introduction\n",
    "1. Motivations\n",
    "    1. Sparse interactions\n",
    "    1. Parameter sharing\n",
    "    1. Equivariant representations\n",
    "1. Implementation in PyTorch\n",
    "1. Summary"
   ]
  },
  {
   "cell_type": "code",
   "execution_count": null,
   "metadata": {},
   "outputs": [],
   "source": [
    "FCC\n",
    "parameter, time, Grad-CAM, feature"
   ]
  },
  {
   "cell_type": "markdown",
   "metadata": {},
   "source": [
    "--- \n",
    "\n",
    "# Introduction\n",
    "In this notebook, I'm going to explain the motivations of (Convolutional Neural Networks)CNN \n",
    "and the implementation of it.\n",
    "This notebook goes subject to the understanding of basic, computation procedure, pooling layer, and batch normalization.\n",
    "I will introduce 3 main motivations and confirm it with a simple example.\n",
    "And in the implementation section, I will show how to implement the CNN and compare it with FCC.\n"
   ]
  },
  {
   "cell_type": "markdown",
   "metadata": {},
   "source": [
    "---\n",
    "\n",
    "# Motivations\n",
    "**Sparse interactions**, **parameter sharing** and **equivariant representations** are \n",
    "characteristics of the CNN which is important for the machine learning model to learn efficiently."
   ]
  },
  {
   "cell_type": "markdown",
   "metadata": {},
   "source": [
    "## Sparse interactions"
   ]
  },
  {
   "cell_type": "markdown",
   "metadata": {},
   "source": [
    "## Parameter sharing"
   ]
  },
  {
   "cell_type": "code",
   "execution_count": null,
   "metadata": {},
   "outputs": [],
   "source": []
  },
  {
   "cell_type": "markdown",
   "metadata": {},
   "source": [
    "## Equivariant representations"
   ]
  }
 ],
 "metadata": {
  "kernelspec": {
   "display_name": "Python 3",
   "language": "python",
   "name": "python3"
  },
  "language_info": {
   "codemirror_mode": {
    "name": "ipython",
    "version": 3
   },
   "file_extension": ".py",
   "mimetype": "text/x-python",
   "name": "python",
   "nbconvert_exporter": "python",
   "pygments_lexer": "ipython3",
   "version": "3.6.9"
  }
 },
 "nbformat": 4,
 "nbformat_minor": 4
}
