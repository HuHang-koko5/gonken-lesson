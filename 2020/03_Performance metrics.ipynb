{
 "cells": [
  {
   "cell_type": "code",
   "execution_count": 59,
   "metadata": {},
   "outputs": [],
   "source": [
    "import numpy as np\n",
    "import matplotlib as mpl\n",
    "import matplotlib.pyplot as plt\n",
    "import seaborn as sns\n",
    "sns.set()"
   ]
  },
  {
   "cell_type": "markdown",
   "metadata": {},
   "source": [
    "# Performance Metrics\n",
    "\n",
    "In this lecture, we are going to study several metrics used to evaluate the performance of our machine learning model.\n",
    "\n",
    "It should be said that a perfect machine learning model does not exist. There will always be some errors in the model, caused by any of the reasons listed below. "
   ]
  },
  {
   "cell_type": "markdown",
   "metadata": {},
   "source": [
    "### Bayes error：\n",
    "\n",
    "In statistical classification, the [Bayes error rate](http://www.shivani-agarwal.net/Teaching/CIS-520/Spring-2018/Lectures/Reading/intro.pdf) ([Japanese link](https://www.slideshare.net/shuheisowa/ss-61091234)) is the lowest possible error rate for any classifier of a random outcome and is analogous to the irreducible error 【1】.\n",
    "\n",
    "Take for example a [binary classifier](https://en.wikipedia.org/wiki/Binary_classification) for gender:\n",
    "- Suppose, in a sample group, 90% of women have long hair, and 20% of men have long hair, where there are the same number of men and women. Thus, if a gender classifier relies only on whether the length of hair as its input, the Bayes error rate of a the best such classifier would be 15% or 0.15 (it would misclassify all long-haired men and short-haired women).\n",
    "\n",
    "---"
   ]
  },
  {
   "cell_type": "code",
   "execution_count": 2,
   "metadata": {},
   "outputs": [
    {
     "name": "stdout",
     "output_type": "stream",
     "text": [
      "\n",
      "Ideal model error rate of: 0.15 \n",
      "Theoretical value of 0.15\n",
      "\n"
     ]
    }
   ],
   "source": [
    "from sklearn import svm\n",
    "N=10000\n",
    "# 0 is female, 1 is male, using 50/50 ratio\n",
    "gender = (np.random.random(N)>0.5).astype(np.int8)\n",
    "# 0 is long hair, 1 is short hair. \n",
    "hair = (np.random.random(N)>gender*0.2+(1-gender)*0.9).astype(np.int8)\n",
    "\n",
    "# a linear model is equivalent to the best possible model for this data\n",
    "model = svm.LinearSVC()\n",
    "model.fit(hair[...,None], gender)\n",
    "predictions = model.predict(hair[...,None])\n",
    "errors = predictions-gender\n",
    "error_rate = (errors**2).sum()/N\n",
    "\n",
    "print()\n",
    "print('Ideal model error rate of: {:<5.2}'.format(error_rate))\n",
    "print('Theoretical value of 0.15')\n",
    "print()"
   ]
  },
  {
   "cell_type": "markdown",
   "metadata": {},
   "source": [
    "---\n",
    "\n",
    "### Other sources of error：\n",
    "\n",
    "For any activity, we are eventually limited by resources: since increasing data, model training, model size all incur some cost, there is necessarily a point at which it is no longer viable to increase it further. This cost may be in the form of money, time, human suffering, computational power, etc.\n",
    "\n",
    "---"
   ]
  },
  {
   "cell_type": "markdown",
   "metadata": {},
   "source": [
    "## Metrics\n",
    "\n",
    "Now, let's see some basic metrics with which to determine the performance of our models. \n",
    "\n",
    "\n",
    "### Accuracy or Error:\n",
    "\n",
    "Accuracy is the proportion of examples for which the model produces the correct input. \n",
    "\n",
    "$Accuracy = \\frac{n_{correct}}{n_{all}}$\n",
    "\n",
    "The error rate is the proportion of examples for which the model produces the incorrect input. \n",
    "\n",
    "$Error = 1-Accuracy$\n",
    "\n",
    "Both accuracy and error are commonly used for classification problems because of their easy human understandability.\n",
    "\n",
    "---"
   ]
  },
  {
   "cell_type": "code",
   "execution_count": 3,
   "metadata": {},
   "outputs": [
    {
     "name": "stdout",
     "output_type": "stream",
     "text": [
      "\n",
      "This model achieves an accuracy of 0.85 \n",
      "This implies an error rate of 0.15 \n",
      "\n"
     ]
    }
   ],
   "source": [
    "# Let's continue with our male/female classifier used above.\n",
    "\n",
    "accuracy = (predictions==gender).sum()/N\n",
    "print()\n",
    "print('This model achieves an accuracy of {:<5.2}'.format(accuracy))\n",
    "print('This implies an error rate of {:<5.2}'.format(1-accuracy))\n",
    "print()"
   ]
  },
  {
   "cell_type": "markdown",
   "metadata": {},
   "source": [
    "--- \n",
    "\n",
    "### Precision and Recall:\n",
    "\n",
    "Precision and Recall are two metrics often used to evaluate classifiers. \n",
    "\n",
    "1. Precision (p) is the fraction of detections reported by the model that were correct. In other words, it is measures of the reliability of the model's detections--if it says an event happened, how likely is it to be correct?\n",
    "\n",
    "$Precision = \\frac{TruePositives}{TruePositives+FalsePositives}$ \n",
    "\n",
    "---"
   ]
  },
  {
   "cell_type": "code",
   "execution_count": 4,
   "metadata": {},
   "outputs": [
    {
     "name": "stdout",
     "output_type": "stream",
     "text": [
      "\n",
      "For detecting women, this model achieves a precision of 0.82 \n",
      "True value = 0.8182\n",
      "\n"
     ]
    }
   ],
   "source": [
    "# Let's say that we our objective is to detect women specifically.\n",
    "\n",
    "true_positives = ((predictions==0)&(gender==0)).sum()\n",
    "false_positives = ((predictions==0)&(gender!=0)).sum()\n",
    "precision = true_positives/(true_positives+false_positives)\n",
    "print()\n",
    "print('For detecting women, this model achieves a precision of {:<5.2}'.format(precision))\n",
    "print('True value = 0.8182')\n",
    "print()"
   ]
  },
  {
   "cell_type": "markdown",
   "metadata": {},
   "source": [
    "---\n",
    "\n",
    "2. Recall (r) is the fraction of true events that were detected. In other words, it measures what fractions of the events the model detects (and how many it misses)--what portion of events can we expect to catch?\n",
    "\n",
    "$Recall = \\frac{TruePositives}{TruePositives+FalseNegatives}$\n",
    "\n",
    "---"
   ]
  },
  {
   "cell_type": "code",
   "execution_count": 5,
   "metadata": {},
   "outputs": [
    {
     "name": "stdout",
     "output_type": "stream",
     "text": [
      "\n",
      "For detecting women, this model achieves a recall of 0.9  \n",
      "True value = 0.9\n",
      "\n"
     ]
    }
   ],
   "source": [
    "false_negatives = ((predictions!=0)&(gender==0)).sum()\n",
    "recall = true_positives/(true_positives+false_negatives)\n",
    "print()\n",
    "print('For detecting women, this model achieves a recall of {:<5.2}'.format(recall))\n",
    "print('True value = 0.9')\n",
    "print()"
   ]
  },
  {
   "cell_type": "markdown",
   "metadata": {},
   "source": [
    "---\n",
    "\n",
    "A detector that says *no one has the disease* would achieve perfect precision but zero recall. The detector says *everyone has the disease* would achieve perfect recall, but the precision qual to the percentage of people who have the disease. (If we assume there is 2 people who have disease over 100 people group, so the precision would be 2%). \n",
    "\n",
    "In binary classifier, our model gives each instant a score, and the score is higher if the model believes the event we are detecting to have likely occurred. We choose to report a detection whenever this score **exceeds some threshold**. By changing the threshold, we change the precision and recall of the model. By varying this threshold, we can plot the [**PR curve**](https://machinelearningmastery.com/roc-curves-and-precision-recall-curves-for-classification-in-python/) ([Japanese link](https://aidemy.net/courses/2010/exercises/HyGxFhIiUxG), traditionally with the precision on the y-axis and recall on the x-axis.\n",
    "\n",
    "We can evaluate our PR curve by measuring the total area lying beneath the PR curve. The larger the area, the better.\n",
    "    \n",
    "In this example, three different classifiers are given, indexed 0, 1 and 2, which correspond to a good, medium, and poor performance classifier. We can run each of them by using the code below, and see how the PR curve changes.\n",
    "\n",
    "There is a simple way of improving classifier 2--do you see it?\n",
    "\n",
    "---"
   ]
  },
  {
   "cell_type": "code",
   "execution_count": 45,
   "metadata": {},
   "outputs": [
    {
     "data": {
      "image/png": "[encoded data removed]",
      "text/plain": [
       "<Figure size 450x450 with 1 Axes>"
      ]
     },
     "metadata": {},
     "output_type": "display_data"
    }
   ],
   "source": [
    "from implements_03.scripts_03 import PR\n",
    "\n",
    "# assuming the models to be black-box functions\n",
    "\n",
    "# select which model: 0, 1 or 2\n",
    "model_index = 1\n",
    "\n",
    "fig1 = plt.figure(num='fig111111', figsize=(6, 6), dpi=75, facecolor='#FFFFFF', edgecolor='#0000FF')\n",
    "\n",
    "#Run the \"PR\" function\n",
    "precisions = []\n",
    "recalls = []\n",
    "thresholds = []\n",
    "#Threshold increase from 0 to 1 with step 0.01\n",
    "for threshold_value in np.linspace(0,1,101):\n",
    "    #Get the value of precision and recall for each value of threshold\n",
    "    precision, recall = PR(threshold_value, model_index)\n",
    "    #Record the data of precision and recall\n",
    "    precisions.append(precision)\n",
    "    recalls.append(recall)\n",
    "    thresholds.append(threshold_value)\n",
    "    if threshold_value%0.25==0:\n",
    "        plt.plot(recall, precision, 'ro')\n",
    "        plt.annotate('Threshold = '+str(threshold_value), (recall, precision), (0,-30), textcoords='offset pixels', arrowprops={'arrowstyle' :'->', 'color': 'red'})   \n",
    "    \n",
    "#Plot the PR Curve \n",
    "plt.plot(recalls, precisions)\n",
    "plt.xticks(np.linspace(0,1,11,endpoint=True))\n",
    "plt.yticks(np.linspace(0,1,11,endpoint=True))\n",
    "plt.title({0: 'Good', 1: 'Medium', 2: 'Poor'}[model_index]+' classifier')\n",
    "plt.ylabel('Precision')\n",
    "plt.xlabel('Recall')\n",
    "\n",
    "\n",
    "plt.show()"
   ]
  },
  {
   "cell_type": "markdown",
   "metadata": {},
   "source": [
    "---\n",
    "\n",
    "If we want to summarize the performance of the classifier with a single number rather than a curve, the F-score will be used and given by:\n",
    "    $F=2pr/(p+r)$\n",
    "    \n",
    "---"
   ]
  },
  {
   "cell_type": "markdown",
   "metadata": {},
   "source": [
    "---\n",
    "\n",
    "### Coverage\n",
    "\n",
    "Coverage is the fraction of example for which the machine learning system is able to produce a response. The Street View transcription systems provides an example of this situation. Where the system can always obtained 100% accuracy by refusing to process any example, but this reduced the coverage to 0%.\n",
    "\n",
    "For the treet View task, the goal fot the project is to reach human-level transcription accuracy while maintaining 95% coverage. (By the way, human-level performance on this task is 98% accuracy.)\n",
    "\n",
    "### Other metrics\n",
    "\n",
    "There can be many other metrics depending on your particular application. Examples include [click-through rate](https://en.wikipedia.org/wiki/Click-through_rate), user satisfaction, and so on. \n",
    "\n",
    "---"
   ]
  },
  {
   "cell_type": "markdown",
   "metadata": {},
   "source": [
    "## Loss functions：\n",
    "\n",
    "Loss is one of the important metric for supervised training of ML models. It is calculated by a user-defined loss function. In general speaking, a lower loss means a better performance, and this function should be designed as such. "
   ]
  },
  {
   "cell_type": "markdown",
   "metadata": {},
   "source": [
    "### Mean squared error\n",
    "\n",
    "The most common loss function for regressive models, this function penalizes the squared difference between the prediction and the true value.\n",
    "\n",
    "$ MSE = \\sum_i{(y_i-f(x_i))^2}$\n",
    "\n",
    "This function has many desirable properties. It is symmetric around the true value, penalizing positive and negative errors equally. \n",
    "It penalizes large errors much more than small errors. It is convex (this is relevant for optimization algorithms such as gradient descent).\n",
    "It is also a emerges naturally if we assume a gaussian distribution of errors and use maximum likelihood estimation (further explained in topic 7).\n",
    "\n",
    "---"
   ]
  },
  {
   "cell_type": "code",
   "execution_count": 107,
   "metadata": {},
   "outputs": [
    {
     "data": {
      "image/png": "[encoded data removed]",
      "text/plain": [
       "<Figure size 504x504 with 1 Axes>"
      ]
     },
     "metadata": {},
     "output_type": "display_data"
    }
   ],
   "source": [
    "from sklearn import linear_model\n",
    "\n",
    "X = np.random.random(10)*10\n",
    "Y = X+np.random.random(*X.shape)*3\n",
    "\n",
    "model = linear_model.LinearRegression(fit_intercept=False)\n",
    "model.fit(X[...,None], Y[...,None])\n",
    "\n",
    "P = model.predict(X[...,None])[...,0]\n",
    "\n",
    "predictions = model.predict(np.linspace(0,10,20)[...,None])[...,0]\n",
    "\n",
    "plt.plot(np.linspace(0,10,20), predictions, label='Model predictions')\n",
    "plt.plot(X, Y, 'ro', label='True values')\n",
    "patches = []\n",
    "\n",
    "for x, y, p in zip(X, Y, P):\n",
    "    \n",
    "    patches.append(mpl.patches.Polygon(np.asarray([[x, p], \n",
    "                                                    [x, y], \n",
    "                                                    [x-y+p, y],\n",
    "                                                    [x-y+p, p]])))\n",
    "patch_collection = mpl.collections.PatchCollection(patches, color='red', alpha=0.5)\n",
    "\n",
    "plt.title('Visualization of squared errors', fontdict={'fontsize':16})\n",
    "plt.ylabel('Y')\n",
    "plt.xlabel('X')\n",
    "plt.gca().set_aspect('equal')\n",
    "plt.ylim(0,12)\n",
    "plt.gcf().set_size_inches(7,7)\n",
    "plt.gca().add_collection(patch_collection)\n",
    "\n",
    "plt.legend()\n",
    "\n",
    "plt.show()"
   ]
  },
  {
   "cell_type": "markdown",
   "metadata": {},
   "source": [
    "---\n",
    "\n",
    "### Categorical crossentropy\n",
    "\n",
    "While MSE is the most commonly used loss for regressors, classifiers are typically evaluated using [categorical crossentropy](https://rdipietro.github.io/friendly-intro-to-cross-entropy-loss/).\n",
    "For a great and intuitive explanation of the mathematics behind this function, please refer to the link above.\n",
    "\n",
    "$ H = -\\sum_i{y_i*\\log{f(x_i)}}$\n",
    "\n",
    "where y are the labels and f(x)the predictions.\n",
    "\n",
    "This error function is also a natural result of utilizing maximum likelihood estimation.\n",
    "\n",
    "---"
   ]
  },
  {
   "cell_type": "markdown",
   "metadata": {},
   "source": [
    "---\n",
    "\n",
    "### Multiple losses\n",
    "\n",
    "In the real project, there are always more than one error we have to reduce. But not all of them have the same weight or priority.\n",
    "\n",
    "For example, suppose we want to build a Junk mail classifier. In general, the cost of blocking legitimate (or good) mail or massages is higher than the cost of allowing spam( or bad) mail or massages. We therefore want to penalize false positives higher than false negatives. \n",
    "\n",
    "---"
   ]
  },
  {
   "cell_type": "markdown",
   "metadata": {},
   "source": [
    "# Reference:\n",
    "1. Fukunaga, Keinosuke (1990) Introduction to Statistical Pattern Recognition by ISBN 0122698517 pages 3 and 97\n",
    "\n",
    "2. Jump up to:a b K. Tumer, K. (1996) \"Estimating the Bayes error rate through classifier combining\" in Proceedings of the 13th International Conference on Pattern Recognition, Volume 2, 695–699\n",
    "\n",
    "3. En.wikipedia.org. 2020. Bayes Error Rate. [online] Available at: <https://en.wikipedia.org/wiki/Bayes_error_rate> [Accessed 13 May 2020].\n",
    "\n",
    "4. Goodfellow, I., Bengio, Y. and Courville, A., 2016. Deep learning. MIT press."
   ]
  }
 ],
 "metadata": {
  "kernelspec": {
   "display_name": "Python 3",
   "language": "python",
   "name": "python3"
  },
  "language_info": {
   "codemirror_mode": {
    "name": "ipython",
    "version": 3
   },
   "file_extension": ".py",
   "mimetype": "text/x-python",
   "name": "python",
   "nbconvert_exporter": "python",
   "pygments_lexer": "ipython3",
   "version": "3.8.2"
  }
 },
 "nbformat": 4,
 "nbformat_minor": 4
}
